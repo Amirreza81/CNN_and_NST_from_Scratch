{
 "cells": [
  {
   "cell_type": "markdown",
   "id": "55c0d358",
   "metadata": {},
   "source": []
  }
 ],
 "metadata": {
  "language_info": {
   "name": "python"
  }
 },
 "nbformat": 4,
 "nbformat_minor": 5
}
